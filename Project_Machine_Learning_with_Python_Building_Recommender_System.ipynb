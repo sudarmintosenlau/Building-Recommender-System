{
  "nbformat": 4,
  "nbformat_minor": 0,
  "metadata": {
    "colab": {
      "name": "Project Machine Learning with Python: Building Recommender System ",
      "provenance": [],
      "collapsed_sections": [],
      "authorship_tag": "ABX9TyN858qlaXDCHWHKwifGJFOW",
      "include_colab_link": true
    },
    "kernelspec": {
      "name": "python3",
      "display_name": "Python 3"
    },
    "language_info": {
      "name": "python"
    }
  },
  "cells": [
    {
      "cell_type": "markdown",
      "metadata": {
        "id": "view-in-github",
        "colab_type": "text"
      },
      "source": [
        "<a href=\"https://colab.research.google.com/github/sudarmintosenlau/Building-Recommender-System/blob/main/Project_Machine_Learning_with_Python_Building_Recommender_System.ipynb\" target=\"_parent\"><img src=\"https://colab.research.google.com/assets/colab-badge.svg\" alt=\"Open In Colab\"/></a>"
      ]
    },
    {
      "cell_type": "markdown",
      "source": [
        "## Import Library dan File Unloading"
      ],
      "metadata": {
        "id": "qNInmrM9VaXe"
      }
    },
    {
      "cell_type": "code",
      "execution_count": 2,
      "metadata": {
        "id": "_oai5BCqG7pm"
      },
      "outputs": [],
      "source": [
        "#import library yang dibutuhkan\n",
        "import pandas as pd\n",
        "import numpy as np\n",
        "pd.set_option('display.max_columns', None)\n",
        "\n",
        "#lakukan pembacaan dataset\n",
        "movie_df = pd.read_csv('https://storage.googleapis.com/dqlab-dataset/title.basics.tsv', sep='\\t') #untuk menyimpan title_basics.tsv\n",
        "rating_df = pd.read_csv('https://storage.googleapis.com/dqlab-dataset/title.ratings.tsv', sep='\\t') #untuk menyimpan title.ratings.tsv"
      ]
    },
    {
      "cell_type": "markdown",
      "source": [
        "## 5 Data teratas dari table movie\n",
        "Hal pertama yang akan kita lakukan adalah menampilkan 5 data teratas yang ada pada table movie (movie_df). "
      ],
      "metadata": {
        "id": "tEDxieJTL5GD"
      }
    },
    {
      "cell_type": "code",
      "source": [
        "print(movie_df.head())"
      ],
      "metadata": {
        "colab": {
          "base_uri": "https://localhost:8080/"
        },
        "id": "VcygU2EGJ-yF",
        "outputId": "64486614-8b99-420c-9eaa-e584c35afd33"
      },
      "execution_count": 3,
      "outputs": [
        {
          "output_type": "stream",
          "name": "stdout",
          "text": [
            "      tconst  titleType                                      primaryTitle  \\\n",
            "0  tt0221078      short                         Circle Dance, Ute Indians   \n",
            "1  tt8862466  tvEpisode  ¡El #TeamOsos va con todo al \"Reality del amor\"!   \n",
            "2  tt7157720  tvEpisode                                     Episode #3.41   \n",
            "3  tt2974998  tvEpisode                         Episode dated 16 May 1987   \n",
            "4  tt2903620  tvEpisode                  Frances Bavier: Aunt Bee Retires   \n",
            "\n",
            "                                      originalTitle  isAdult startYear  \\\n",
            "0                         Circle Dance, Ute Indians        0      1898   \n",
            "1  ¡El #TeamOsos va con todo al \"Reality del amor\"!        0      2018   \n",
            "2                                     Episode #3.41        0      2016   \n",
            "3                         Episode dated 16 May 1987        0      1987   \n",
            "4                  Frances Bavier: Aunt Bee Retires        0      1973   \n",
            "\n",
            "  endYear runtimeMinutes             genres  \n",
            "0      \\N             \\N  Documentary,Short  \n",
            "1      \\N             \\N       Comedy,Drama  \n",
            "2      \\N             29   Comedy,Game-Show  \n",
            "3      \\N             \\N               News  \n",
            "4      \\N             \\N        Documentary  \n"
          ]
        }
      ]
    },
    {
      "cell_type": "markdown",
      "source": [
        "## Info Data dari Setiap Kolom\n",
        "\n",
        "Setelah berhasil menampilkan 5 data teratas yang ada pada table movie (movie_df), hal selanjutnya yang akan kita lakukan adalah melakukan pengecekan tipe data dan informasi lainnya dari setiap kolom yang ada pada table movie (movie_df) tersebut."
      ],
      "metadata": {
        "id": "XD3bdJHwMhNp"
      }
    },
    {
      "cell_type": "code",
      "source": [
        "print(movie_df.info())"
      ],
      "metadata": {
        "colab": {
          "base_uri": "https://localhost:8080/"
        },
        "id": "Gx8AK4e1M0sR",
        "outputId": "4517b7f8-dc14-48a7-f361-de5761d8a0d7"
      },
      "execution_count": 4,
      "outputs": [
        {
          "output_type": "stream",
          "name": "stdout",
          "text": [
            "<class 'pandas.core.frame.DataFrame'>\n",
            "RangeIndex: 9025 entries, 0 to 9024\n",
            "Data columns (total 9 columns):\n",
            " #   Column          Non-Null Count  Dtype \n",
            "---  ------          --------------  ----- \n",
            " 0   tconst          9025 non-null   object\n",
            " 1   titleType       9025 non-null   object\n",
            " 2   primaryTitle    9011 non-null   object\n",
            " 3   originalTitle   9011 non-null   object\n",
            " 4   isAdult         9025 non-null   int64 \n",
            " 5   startYear       9025 non-null   object\n",
            " 6   endYear         9025 non-null   object\n",
            " 7   runtimeMinutes  9025 non-null   object\n",
            " 8   genres          9014 non-null   object\n",
            "dtypes: int64(1), object(8)\n",
            "memory usage: 634.7+ KB\n",
            "None\n"
          ]
        }
      ]
    },
    {
      "cell_type": "markdown",
      "source": [
        "## Pengecekan Data dengan Nilai NULL\n",
        "\n",
        "Merupakan suatu hal yang wajib untuk melakukan pengecekan terhadap nilai NULL yang ada di dalam dataset saat melakukan cleaning.\n",
        "\n",
        "Oleh karena itu, hal selanjutnya yang akan kita lakukan adalah melakukan pengecekan apakah ada data bernilai NULL pada masing-masing kolom yang ada pada table movie (movie_df)"
      ],
      "metadata": {
        "id": "6g3ms18oNG5J"
      }
    },
    {
      "cell_type": "code",
      "source": [
        "print(movie_df.isnull().sum())"
      ],
      "metadata": {
        "colab": {
          "base_uri": "https://localhost:8080/"
        },
        "id": "5x_-Ep27NOtw",
        "outputId": "fb1fc6b3-ea72-4590-bcb0-421c1e8521fc"
      },
      "execution_count": 5,
      "outputs": [
        {
          "output_type": "stream",
          "name": "stdout",
          "text": [
            "tconst             0\n",
            "titleType          0\n",
            "primaryTitle      14\n",
            "originalTitle     14\n",
            "isAdult            0\n",
            "startYear          0\n",
            "endYear            0\n",
            "runtimeMinutes     0\n",
            "genres            11\n",
            "dtype: int64\n"
          ]
        }
      ]
    },
    {
      "cell_type": "markdown",
      "source": [
        "## Analisis Kolom dengan data bernilai NULL - part 1\n",
        "\n",
        "Dari hasil pengecekan nilai NULL yang sudah dilakukan sebelumnya, diketahui bahwa kolom 'primaryTitle' dan 'originalTitle' memiliki banyak data yang bernilai NULL.\n",
        "\n",
        "Hal selanjutnya yang akan kita lakukan adalah melakukan pengecekan terhadap bentuk data dari kolom primaryTitle dan originalTitle yang bernilai NULL. "
      ],
      "metadata": {
        "id": "7T26UYN5NjQN"
      }
    },
    {
      "cell_type": "code",
      "source": [
        "print(movie_df.loc[(movie_df['primaryTitle'].isnull()) | (movie_df['originalTitle'].isnull())])"
      ],
      "metadata": {
        "colab": {
          "base_uri": "https://localhost:8080/"
        },
        "id": "AEXhGYnANyy_",
        "outputId": "21af2c0b-bd73-40f2-add9-7008bb7e25e9"
      },
      "execution_count": 6,
      "outputs": [
        {
          "output_type": "stream",
          "name": "stdout",
          "text": [
            "          tconst  titleType primaryTitle originalTitle  isAdult startYear  \\\n",
            "9000  tt10790040  tvEpisode          NaN           NaN        0      2019   \n",
            "9001  tt10891902  tvEpisode          NaN           NaN        0      2020   \n",
            "9002  tt11737860  tvEpisode          NaN           NaN        0      2020   \n",
            "9003  tt11737862  tvEpisode          NaN           NaN        0      2020   \n",
            "9004  tt11737866  tvEpisode          NaN           NaN        0      2020   \n",
            "9005  tt11737872  tvEpisode          NaN           NaN        0      2020   \n",
            "9006  tt11737874  tvEpisode          NaN           NaN        0      2020   \n",
            "9007   tt1971246  tvEpisode          NaN           NaN        0      2011   \n",
            "9008   tt2067043  tvEpisode          NaN           NaN        0      1965   \n",
            "9009   tt4404732  tvEpisode          NaN           NaN        0      2015   \n",
            "9010   tt5773048  tvEpisode          NaN           NaN        0      2015   \n",
            "9011   tt8473688  tvEpisode          NaN           NaN        0      1987   \n",
            "9012   tt8541336  tvEpisode          NaN           NaN        0      2018   \n",
            "9013   tt9824302  tvEpisode          NaN           NaN        0      2016   \n",
            "\n",
            "     endYear runtimeMinutes                genres  \n",
            "9000      \\N             \\N                    \\N  \n",
            "9001      \\N             \\N                 Crime  \n",
            "9002      \\N             \\N  Comedy,Drama,Romance  \n",
            "9003      \\N             \\N  Comedy,Drama,Romance  \n",
            "9004      \\N             \\N  Comedy,Drama,Romance  \n",
            "9005      \\N             \\N                    \\N  \n",
            "9006      \\N             \\N  Comedy,Drama,Romance  \n",
            "9007      \\N             \\N             Biography  \n",
            "9008      \\N             \\N                 Music  \n",
            "9009      \\N             \\N                Comedy  \n",
            "9010      \\N             \\N             Talk-Show  \n",
            "9011      \\N             \\N                 Drama  \n",
            "9012      \\N             \\N    Reality-TV,Romance  \n",
            "9013      \\N             \\N           Documentary  \n"
          ]
        }
      ]
    },
    {
      "cell_type": "markdown",
      "source": [
        "## Membuang Data dengan Nilai NULL - part 1\n",
        "\n",
        "Setelah melihat hasil sebelumnya, dapat dilihat bahwa semua data tidak memiliki judul dan kita dapat membuang data-data tersebut.\n",
        "\n",
        "Pekerjaan selanjutnya yang akan kita lakukan adalah membuang data dengan nilai NULL tersebut dan melihat jumlah data yang ada setelah data-data bernilai NULL tersebut dibuang. "
      ],
      "metadata": {
        "id": "jCdie1ANN0q3"
      }
    },
    {
      "cell_type": "code",
      "source": [
        "#mengupdate movie_df dengan membuang data-data bernilai NULL\n",
        "movie_df = movie_df.loc[(movie_df['primaryTitle'].notnull()) & (movie_df['originalTitle'].notnull())]\n",
        "\n",
        "#menampilkan jumlah data setelah data dengan nilai NULL dibuang\n",
        "print(len(movie_df))"
      ],
      "metadata": {
        "colab": {
          "base_uri": "https://localhost:8080/"
        },
        "id": "LgUO5NunN_MP",
        "outputId": "55152307-85c0-46b1-c818-9a645daa775d"
      },
      "execution_count": 7,
      "outputs": [
        {
          "output_type": "stream",
          "name": "stdout",
          "text": [
            "9011\n"
          ]
        }
      ]
    },
    {
      "cell_type": "markdown",
      "source": [
        "## Analisis Kolom dengan data bernilai NULL - part 2\n",
        "\n",
        "Selain kolom 'primaryTitle' dan 'originalTitle',masih terdapat kolom lain yang memiliki data bernilai NULL. Kolom tersebut adalah kolom 'genres'\n",
        "\n",
        "Selanjutnya, kita akan melakukan hal yang sama seperti yang sudah kita lakukan pada kolom 'primaryTitle' dan 'originalTitle'.\n",
        "\n",
        "Lakukan pengecekan terhadap **bentuk data dari kolom genres yang bernilai NULL**. "
      ],
      "metadata": {
        "id": "yo9ImvzxOaC4"
      }
    },
    {
      "cell_type": "code",
      "source": [
        "print(movie_df.loc[movie_df['genres'].isnull()])"
      ],
      "metadata": {
        "colab": {
          "base_uri": "https://localhost:8080/"
        },
        "id": "TOiSTD-tOfHQ",
        "outputId": "20d7bf1c-a288-43be-8cf8-822427be4e86"
      },
      "execution_count": 8,
      "outputs": [
        {
          "output_type": "stream",
          "name": "stdout",
          "text": [
            "          tconst  titleType  \\\n",
            "9014  tt10233364  tvEpisode   \n",
            "9015  tt10925142  tvEpisode   \n",
            "9016  tt10970874  tvEpisode   \n",
            "9017  tt11670006  tvEpisode   \n",
            "9018  tt11868642  tvEpisode   \n",
            "9019   tt2347742  tvEpisode   \n",
            "9020   tt3984412  tvEpisode   \n",
            "9021   tt8740950  tvEpisode   \n",
            "9022   tt9822816  tvEpisode   \n",
            "9023   tt9900062  tvEpisode   \n",
            "9024   tt9909210  tvEpisode   \n",
            "\n",
            "                                           primaryTitle originalTitle  \\\n",
            "9014  Rolling in the Deep Dish\\tRolling in the Deep ...             0   \n",
            "9015  The IMDb Show on Location: Star Wars Galaxy's ...             0   \n",
            "9016  Die Bauhaus-Stadt Tel Aviv - Vorbild für die M...             0   \n",
            "9017  ...ein angenehmer Unbequemer...\\t...ein angene...             0   \n",
            "9018  GGN Heavyweight Championship Lungs With Mike T...             0   \n",
            "9019  No sufras por la alergia esta primavera\\tNo su...             0   \n",
            "9020  I'm Not Going to Come Last, I'm Just Going to ...             0   \n",
            "9021  Weight Loss Resolution Restart - Ins & Outs of...             0   \n",
            "9022  Zwischen Vertuschung und Aufklärung - Missbrau...             0   \n",
            "9023  The Direction of Yuu's Love: Hings Aren't Goin...             0   \n",
            "9024  Politik und/oder Moral - Wie weit geht das Ver...             0   \n",
            "\n",
            "      isAdult startYear endYear          runtimeMinutes genres  \n",
            "9014     2019        \\N      \\N              Reality-TV    NaN  \n",
            "9015     2019        \\N      \\N               Talk-Show    NaN  \n",
            "9016     2019        \\N      \\N                      \\N    NaN  \n",
            "9017     1981        \\N      \\N             Documentary    NaN  \n",
            "9018     2020        \\N      \\N               Talk-Show    NaN  \n",
            "9019     2004        \\N      \\N                      \\N    NaN  \n",
            "9020     2014        \\N      \\N              Reality-TV    NaN  \n",
            "9021     2015        \\N      \\N              Reality-TV    NaN  \n",
            "9022     2019        \\N      \\N                      \\N    NaN  \n",
            "9023     1994        \\N      \\N  Animation,Comedy,Drama    NaN  \n",
            "9024     2005        \\N      \\N                      \\N    NaN  \n"
          ]
        }
      ]
    },
    {
      "cell_type": "markdown",
      "source": [
        "## Membuang Data dengan Nilai NULL - part 2\n",
        "\n",
        "Setelah melihat hasil sebelumnya, dapat dilihat bahwa semua data tidak memiliki judul dan kita dapat membuang data-data tersebut.Pekerjaan selanjutnya yang akan kita lakukan adalah membuang data dengan nilai NULL tersebut dan melihat jumlah data yang ada setelah data-data bernilai NULL tersebut dibuang. "
      ],
      "metadata": {
        "id": "AngelRB4OyRu"
      }
    },
    {
      "cell_type": "code",
      "source": [
        "#mengupdate movie_df dengan membuang data-data bernilai NULL\n",
        "movie_df = movie_df.loc[movie_df['genres'].notnull()]\n",
        "\n",
        "#menampilkan jumlah data setelah data dengan nilai NULL dibuang\n",
        "print(len(movie_df))"
      ],
      "metadata": {
        "colab": {
          "base_uri": "https://localhost:8080/"
        },
        "id": "gRbwBfkDO6DV",
        "outputId": "861d0b16-e051-41c5-93db-8a20b7545cf2"
      },
      "execution_count": 9,
      "outputs": [
        {
          "output_type": "stream",
          "name": "stdout",
          "text": [
            "9000\n"
          ]
        }
      ]
    },
    {
      "cell_type": "markdown",
      "source": [
        "## Mengubah Nilai '\\\\N'\n",
        "\n",
        "Jika kita perhatikan pada kolom 'startYear' , 'endYear', dan 'runtimeMinutes', terdapat data dengan nilai '\\\\N'\n",
        "\n",
        "'\\\\N' berarti NULL.\n",
        "\n",
        "Hal selanjutnya yang akan kita lakukan adalah mengubah nilai dari \\\\\\N tersebur menjadi np.nan dan melakukan casting kolom startYear, endYear, dan runtimeMinutes menjadi float64."
      ],
      "metadata": {
        "id": "5zpOp35gPM-m"
      }
    },
    {
      "cell_type": "code",
      "source": [
        "#mengubah nilai '\\\\N' pada startYear menjadi np.nan dan cast kolomnya menjadi float64\n",
        "movie_df['startYear'] = movie_df['startYear'].replace('\\\\N',np.nan)\n",
        "movie_df['startYear'] = movie_df['startYear'].astype('float64')\n",
        "print(movie_df['startYear'].unique()[:5])\n",
        "\n",
        "#mengubah nilai '\\\\N' pada endYear menjadi np.nan dan cast kolomnya menjadi float64\n",
        "movie_df['endYear'] = movie_df['endYear'].replace('\\\\N',np.nan)\n",
        "movie_df['endYear'] = movie_df['endYear'].astype('float64')\n",
        "print(movie_df['endYear'].unique()[:5])\n",
        "\n",
        "#mengubah nilai '\\\\N' pada runtimeMinutes menjadi np.nan dan cast kolomnya menjadi float64\n",
        "movie_df['runtimeMinutes'] = movie_df['runtimeMinutes'].replace('\\\\N',np.nan)\n",
        "movie_df['runtimeMinutes'] = movie_df['runtimeMinutes'].astype('float64')\n",
        "print(movie_df['runtimeMinutes'].unique()[:5])"
      ],
      "metadata": {
        "colab": {
          "base_uri": "https://localhost:8080/"
        },
        "id": "Utf76JETPXet",
        "outputId": "be402c3f-9297-4c6b-aa15-722bbaac1c6a"
      },
      "execution_count": 10,
      "outputs": [
        {
          "output_type": "stream",
          "name": "stdout",
          "text": [
            "[1898. 2018. 2016. 1987. 1973.]\n",
            "[  nan 2005. 1955. 2006. 1999.]\n",
            "[nan 29.  7. 23. 85.]\n"
          ]
        }
      ]
    },
    {
      "cell_type": "markdown",
      "source": [
        "## Mengubah nilai genres menjadi list\n",
        "\n",
        "Selanjutnya, kita akan membuat sebuah function yang bernama **transform_to_list** untuk mengubah nilai genre menjadi list. "
      ],
      "metadata": {
        "id": "t1vwWKUvP6i0"
      }
    },
    {
      "cell_type": "code",
      "source": [
        "def transform_to_list(x):\n",
        "    if ',' in x: \n",
        "    #ubah menjadi list apabila ada data pada kolom genre\n",
        "        return x.split(',')\n",
        "    else: \n",
        "    #jika tidak ada data, ubah menjadi list kosong\n",
        "        return []\n",
        "\n",
        "movie_df['genres'] = movie_df['genres'].apply(lambda x: transform_to_list(x))"
      ],
      "metadata": {
        "id": "RrE8K6fTP_ls"
      },
      "execution_count": null,
      "outputs": []
    },
    {
      "cell_type": "markdown",
      "source": [
        "## Menampilkan 5 data teratas\n",
        "\n",
        "Seperti yang sudah kita lakukan pada table movie (movie_df) sebelumnya, sekarang kita akan menampilkan 5 data teratas dari table ratings (rating_df)"
      ],
      "metadata": {
        "id": "nVz3tdcvQbXr"
      }
    },
    {
      "cell_type": "code",
      "source": [
        "print(rating_df.head())"
      ],
      "metadata": {
        "colab": {
          "base_uri": "https://localhost:8080/"
        },
        "id": "fDXNz0uNQrD0",
        "outputId": "7fb31890-d406-401b-801f-8ea762c44537"
      },
      "execution_count": 11,
      "outputs": [
        {
          "output_type": "stream",
          "name": "stdout",
          "text": [
            "      tconst  averageRating  numVotes\n",
            "0  tt0000001            5.6      1608\n",
            "1  tt0000002            6.0       197\n",
            "2  tt0000003            6.5      1285\n",
            "3  tt0000004            6.1       121\n",
            "4  tt0000005            6.1      2050\n"
          ]
        }
      ]
    },
    {
      "cell_type": "markdown",
      "source": [
        "## Menampilkan info data\n",
        "\n",
        "Selanjutnya, kita akan menampilkan tipe data dan informasi lainnya dari masing-masing kolom yang ada pada table rating (rating_df)"
      ],
      "metadata": {
        "id": "_dsuNutPQ4Pb"
      }
    },
    {
      "cell_type": "code",
      "source": [
        "print(rating_df.info())"
      ],
      "metadata": {
        "colab": {
          "base_uri": "https://localhost:8080/"
        },
        "id": "DtvD7SBIQ-1M",
        "outputId": "fd00634d-677a-4207-d3eb-7fd639e46881"
      },
      "execution_count": 12,
      "outputs": [
        {
          "output_type": "stream",
          "name": "stdout",
          "text": [
            "<class 'pandas.core.frame.DataFrame'>\n",
            "RangeIndex: 1030009 entries, 0 to 1030008\n",
            "Data columns (total 3 columns):\n",
            " #   Column         Non-Null Count    Dtype  \n",
            "---  ------         --------------    -----  \n",
            " 0   tconst         1030009 non-null  object \n",
            " 1   averageRating  1030009 non-null  float64\n",
            " 2   numVotes       1030009 non-null  int64  \n",
            "dtypes: float64(1), int64(1), object(1)\n",
            "memory usage: 23.6+ MB\n",
            "None\n"
          ]
        }
      ]
    },
    {
      "cell_type": "markdown",
      "source": [
        "## Inner Join table movie dan table rating\n",
        "\n",
        "Mari kita melakukan **inner** join antara rating_df dan movie_df untuk mendapatkan rating pada setiap film yang tersedia, lalu tampilkan **5 data teratas** dan **tipe data** dari tiap kolom yang ada. "
      ],
      "metadata": {
        "id": "-45wC9R6RSBy"
      }
    },
    {
      "cell_type": "code",
      "source": [
        "#Lakukan join pada kedua table\n",
        "movie_rating_df = pd.merge(movie_df,rating_df, on='tconst', how='inner')\n",
        "\n",
        "#Tampilkan 5 data teratas\n",
        "print(movie_rating_df.head())\n",
        "\n",
        "#Tampilkan tipe data dari tiap kolom\n",
        "print(movie_rating_df.info())\n"
      ],
      "metadata": {
        "colab": {
          "base_uri": "https://localhost:8080/"
        },
        "id": "4IVqZOJfRgkS",
        "outputId": "976049ea-b2bd-468d-c316-8230e08e95d0"
      },
      "execution_count": 13,
      "outputs": [
        {
          "output_type": "stream",
          "name": "stdout",
          "text": [
            "      tconst  titleType              primaryTitle             originalTitle  \\\n",
            "0  tt0043745      short                 Lion Down                 Lion Down   \n",
            "1  tt0167491      video         Wicked Covergirls         Wicked Covergirls   \n",
            "2  tt6574096  tvEpisode      Shadow Play - Part 2      Shadow Play - Part 2   \n",
            "3  tt6941700  tvEpisode              RuPaul Roast              RuPaul Roast   \n",
            "4  tt7305674      video  UCLA Track & Field Promo  UCLA Track & Field Promo   \n",
            "\n",
            "   isAdult  startYear  endYear  runtimeMinutes                      genres  \\\n",
            "0        0     1951.0      NaN             7.0     Animation,Comedy,Family   \n",
            "1        1     1998.0      NaN            85.0                       Adult   \n",
            "2        0     2017.0      NaN            22.0  Adventure,Animation,Comedy   \n",
            "3        0     2017.0      NaN             NaN                  Reality-TV   \n",
            "4        0     2017.0      NaN             NaN                 Short,Sport   \n",
            "\n",
            "   averageRating  numVotes  \n",
            "0            7.1       459  \n",
            "1            5.7         7  \n",
            "2            8.5       240  \n",
            "3            8.0        11  \n",
            "4            9.7         7  \n",
            "<class 'pandas.core.frame.DataFrame'>\n",
            "Int64Index: 1376 entries, 0 to 1375\n",
            "Data columns (total 11 columns):\n",
            " #   Column          Non-Null Count  Dtype  \n",
            "---  ------          --------------  -----  \n",
            " 0   tconst          1376 non-null   object \n",
            " 1   titleType       1376 non-null   object \n",
            " 2   primaryTitle    1376 non-null   object \n",
            " 3   originalTitle   1376 non-null   object \n",
            " 4   isAdult         1376 non-null   int64  \n",
            " 5   startYear       1376 non-null   float64\n",
            " 6   endYear         26 non-null     float64\n",
            " 7   runtimeMinutes  1004 non-null   float64\n",
            " 8   genres          1376 non-null   object \n",
            " 9   averageRating   1376 non-null   float64\n",
            " 10  numVotes        1376 non-null   int64  \n",
            "dtypes: float64(4), int64(2), object(5)\n",
            "memory usage: 129.0+ KB\n",
            "None\n"
          ]
        }
      ]
    },
    {
      "cell_type": "markdown",
      "source": [
        "## Memperkecil ukuran Table\n",
        "\n",
        "Hal selanjutnya yang akan kita lakukan adalah memperkecil ukuran table dengan menghilangkan semua nilai NULL dari kolom **startYear** dan **runtimeMinutes** karena tidak masuk akal jikalau film tersebut tidak diketahui kapan tahun rilis dan durasi nya. "
      ],
      "metadata": {
        "id": "o07H1M3IR5tZ"
      }
    },
    {
      "cell_type": "code",
      "source": [
        "movie_rating_df = movie_rating_df.dropna(subset=['startYear','runtimeMinutes'])\n",
        "\n",
        "#Untuk memastikan bahwa sudah tidak ada lagi nilai NULL\n",
        "print(movie_rating_df.info())"
      ],
      "metadata": {
        "colab": {
          "base_uri": "https://localhost:8080/"
        },
        "id": "cuacmscDSHzh",
        "outputId": "b2e30146-4382-4c1c-ab03-f8d2d2077484"
      },
      "execution_count": 14,
      "outputs": [
        {
          "output_type": "stream",
          "name": "stdout",
          "text": [
            "<class 'pandas.core.frame.DataFrame'>\n",
            "Int64Index: 1004 entries, 0 to 1374\n",
            "Data columns (total 11 columns):\n",
            " #   Column          Non-Null Count  Dtype  \n",
            "---  ------          --------------  -----  \n",
            " 0   tconst          1004 non-null   object \n",
            " 1   titleType       1004 non-null   object \n",
            " 2   primaryTitle    1004 non-null   object \n",
            " 3   originalTitle   1004 non-null   object \n",
            " 4   isAdult         1004 non-null   int64  \n",
            " 5   startYear       1004 non-null   float64\n",
            " 6   endYear         17 non-null     float64\n",
            " 7   runtimeMinutes  1004 non-null   float64\n",
            " 8   genres          1004 non-null   object \n",
            " 9   averageRating   1004 non-null   float64\n",
            " 10  numVotes        1004 non-null   int64  \n",
            "dtypes: float64(4), int64(2), object(5)\n",
            "memory usage: 94.1+ KB\n",
            "None\n"
          ]
        }
      ]
    },
    {
      "cell_type": "markdown",
      "source": [
        "**Pertanyaan 1: Berapa nilai C?**\n",
        "\n",
        "Hal pertama yang akan kita cari adalah nilai dari C yang merupakan rata-rata dari averageRating"
      ],
      "metadata": {
        "id": "iX6dtk2SSbpi"
      }
    },
    {
      "cell_type": "code",
      "source": [
        "C = movie_rating_df['averageRating'].mean()\n",
        "print(C)"
      ],
      "metadata": {
        "colab": {
          "base_uri": "https://localhost:8080/"
        },
        "id": "JKWYA8IoSzQ2",
        "outputId": "0d1b5dc2-8445-4703-8d24-5a2389384f5f"
      },
      "execution_count": 15,
      "outputs": [
        {
          "output_type": "stream",
          "name": "stdout",
          "text": [
            "6.829581673306767\n"
          ]
        }
      ]
    },
    {
      "cell_type": "markdown",
      "source": [
        "**Pertanyaan 2: Berapa nilai m?**\n",
        "\n",
        "Mari kita ambil contoh film dengan numVotes di atas 80% populasi, jadi populasi yang akan kita ambil hanya sebesar 20%. "
      ],
      "metadata": {
        "id": "mlM2Sf38TD_X"
      }
    },
    {
      "cell_type": "code",
      "source": [
        "m = movie_rating_df['numVotes'].quantile(0.8)\n",
        "print(m)"
      ],
      "metadata": {
        "colab": {
          "base_uri": "https://localhost:8080/"
        },
        "id": "FLnHNlLqTJab",
        "outputId": "d02d1392-7cb9-4cf2-a964-6430c2d1dc5a"
      },
      "execution_count": 16,
      "outputs": [
        {
          "output_type": "stream",
          "name": "stdout",
          "text": [
            "229.0\n"
          ]
        }
      ]
    },
    {
      "cell_type": "markdown",
      "source": [
        "**Pertanyaan 3: Bagaimana cara membuat fungsi weighted formula?**\n",
        "\n",
        "Selanjutnya kita harus membuat sebuah fungsi dengan menggunakan dataframe sebagai variable."
      ],
      "metadata": {
        "id": "UxjYf7b-TWCJ"
      }
    },
    {
      "cell_type": "code",
      "source": [
        "def imdb_weighted_rating(df, var=0.8):\n",
        "    v = df['numVotes']\n",
        "    R = df['averageRating']\n",
        "    C = df['averageRating'].mean()\n",
        "    m = df['numVotes'].quantile(var)\n",
        "    df['score'] = (v/(m+v))*R + (m/(m+v))*C #Rumus IMDb \n",
        "    return df['score']\n",
        "    \n",
        "imdb_weighted_rating(movie_rating_df)\n",
        "\n",
        "#melakukan pengecekan dataframe\n",
        "print(movie_rating_df.head())"
      ],
      "metadata": {
        "colab": {
          "base_uri": "https://localhost:8080/"
        },
        "id": "GyTu-L0HTcnv",
        "outputId": "dae5af72-8cae-4ce6-ba49-e1ad7497e5ec"
      },
      "execution_count": 17,
      "outputs": [
        {
          "output_type": "stream",
          "name": "stdout",
          "text": [
            "      tconst  titleType          primaryTitle         originalTitle  isAdult  \\\n",
            "0  tt0043745      short             Lion Down             Lion Down        0   \n",
            "1  tt0167491      video     Wicked Covergirls     Wicked Covergirls        1   \n",
            "2  tt6574096  tvEpisode  Shadow Play - Part 2  Shadow Play - Part 2        0   \n",
            "5  tt2262289      movie               The Pin               The Pin        0   \n",
            "6  tt0874027  tvEpisode         Episode #32.9         Episode #32.9        0   \n",
            "\n",
            "   startYear  endYear  runtimeMinutes                      genres  \\\n",
            "0     1951.0      NaN             7.0     Animation,Comedy,Family   \n",
            "1     1998.0      NaN            85.0                       Adult   \n",
            "2     2017.0      NaN            22.0  Adventure,Animation,Comedy   \n",
            "5     2013.0      NaN            85.0                       Drama   \n",
            "6     2006.0      NaN            29.0       Comedy,Game-Show,News   \n",
            "\n",
            "   averageRating  numVotes     score  \n",
            "0            7.1       459  7.009992  \n",
            "1            5.7         7  6.796077  \n",
            "2            8.5       240  7.684380  \n",
            "5            7.7        27  6.921384  \n",
            "6            8.0         8  6.869089  \n"
          ]
        }
      ]
    },
    {
      "cell_type": "markdown",
      "source": [
        "**Pertanyaan 4: Bagaimana cara membuat simple recommender system?**\n",
        "\n",
        "Dari task yang sudah kita lakukan sebelumnya, telah terdapat field tambahan 'score'.\n",
        "\n",
        "Pertama kita akan filter numVotes yang lebih dari m kemudian diurutkan score dari tertinggi ke terendah untuk diambil nilai beberapa nilai teratas\n"
      ],
      "metadata": {
        "id": "yY9mzUfUTzZu"
      }
    },
    {
      "cell_type": "code",
      "source": [
        "def simple_recommender(df, top=100):\n",
        "    df = df.loc[df['numVotes'] >= m]\n",
        "    df = df.sort_values(by='score',ascending=False) #urutkan dari nilai tertinggi ke terendah\n",
        "    \n",
        "    #Ambil data 100 teratas\n",
        "    df = df[:top]\n",
        "    return df\n",
        "    \n",
        "#Ambil data 25 teratas     \n",
        "print(simple_recommender(movie_rating_df, top=25))"
      ],
      "metadata": {
        "colab": {
          "base_uri": "https://localhost:8080/"
        },
        "id": "r3tE0zp6UIG-",
        "outputId": "c428ed63-aedd-4a3c-d897-2b70ed04ed3e"
      },
      "execution_count": 18,
      "outputs": [
        {
          "output_type": "stream",
          "name": "stdout",
          "text": [
            "         tconst  titleType                                   primaryTitle  \\\n",
            "68    tt4110822  tvEpisode                                  S.O.S. Part 2   \n",
            "236   tt2200252      video                    Attack of the Clones Review   \n",
            "1181  tt7697962  tvEpisode            Chapter Seventeen: The Missionaries   \n",
            "326   tt7124590  tvEpisode            Chapter Thirty-Four: Judgment Night   \n",
            "1045  tt0533506  tvEpisode                                       The Prom   \n",
            "71    tt8399426  tvEpisode                                        Savages   \n",
            "1234  tt2843830  tvEpisode                                          VIII.   \n",
            "1087  tt4295140   tvSeries                                   Chef's Table   \n",
            "1054  tt2503932  tvEpisode                                Trial and Error   \n",
            "448   tt0337566      video                       AC/DC: Live at Donington   \n",
            "624   tt0620159  tvEpisode                                     Strike Out   \n",
            "1281  tt3166390  tvEpisode                         Looking for a Plus-One   \n",
            "314   tt0954759  tvEpisode                                   Ben Franklin   \n",
            "189   tt5661506      video            Florence + the Machine: The Odyssey   \n",
            "151   tt3954426  tvEpisode                                Bleeding Kansas   \n",
            "1344  tt6644294  tvEpisode                 The Hostile Hospital: Part Two   \n",
            "1242  tt3677742  tvSpecial  Saturday Night Live: 40th Anniversary Special   \n",
            "1217  tt3642464  tvEpisode                                    Giant Woman   \n",
            "544   tt0734655  tvEpisode                              The Little People   \n",
            "49    tt9119838  tvEpisode                      Parisian Legend Has It...   \n",
            "357   tt4084774  tvEpisode                           Trial and Punishment   \n",
            "1111  tt4174072  tvEpisode                     Immortal Emerges from Cave   \n",
            "790   tt4279086  tvEpisode                       And Santa's Midnight Run   \n",
            "972   tt0048028      movie                                   East of Eden   \n",
            "819   tt0032156      movie            The Story of the Last Chrysanthemum   \n",
            "\n",
            "                                      originalTitle  isAdult  startYear  \\\n",
            "68                                    S.O.S. Part 2        0     2015.0   \n",
            "236                     Attack of the Clones Review        0     2010.0   \n",
            "1181            Chapter Seventeen: The Missionaries        0     2019.0   \n",
            "326             Chapter Thirty-Four: Judgment Night        0     2018.0   \n",
            "1045                                       The Prom        0     1999.0   \n",
            "71                                          Savages        0     2018.0   \n",
            "1234                                          VIII.        0     2014.0   \n",
            "1087                                   Chef's Table        0     2015.0   \n",
            "1054                                Trial and Error        0     2013.0   \n",
            "448                        AC/DC: Live at Donington        0     1992.0   \n",
            "624                                      Strike Out        0     2000.0   \n",
            "1281                         Looking for a Plus-One        0     2014.0   \n",
            "314                                    Ben Franklin        0     2007.0   \n",
            "189             Florence + the Machine: The Odyssey        0     2016.0   \n",
            "151                                 Bleeding Kansas        0     2014.0   \n",
            "1344                 The Hostile Hospital: Part Two        0     2018.0   \n",
            "1242  Saturday Night Live: 40th Anniversary Special        0     2015.0   \n",
            "1217                                    Giant Woman        0     2014.0   \n",
            "544                               The Little People        0     1962.0   \n",
            "49                        Parisian Legend Has It...        0     2019.0   \n",
            "357                            Trial and Punishment        0     2015.0   \n",
            "1111                     Immortal Emerges from Cave        0     2017.0   \n",
            "790                        And Santa's Midnight Run        0     2014.0   \n",
            "972                                    East of Eden        0     1955.0   \n",
            "819                              Zangiku monogatari        0     1939.0   \n",
            "\n",
            "      endYear  runtimeMinutes                      genres  averageRating  \\\n",
            "68        NaN            43.0      Action,Adventure,Drama            9.4   \n",
            "236       NaN            86.0                      Comedy            9.3   \n",
            "1181      NaN            54.0        Drama,Fantasy,Horror            9.2   \n",
            "326       NaN            42.0         Crime,Drama,Mystery            9.1   \n",
            "1045      NaN            60.0        Action,Drama,Fantasy            8.9   \n",
            "71        NaN            58.0       Drama,Fantasy,Romance            9.0   \n",
            "1234      NaN            57.0             Adventure,Drama            8.9   \n",
            "1087      NaN            50.0                 Documentary            8.6   \n",
            "1054      NaN            43.0        Drama,Fantasy,Horror            8.6   \n",
            "448       NaN           120.0           Documentary,Music            8.5   \n",
            "624       NaN            30.0                      Comedy            8.7   \n",
            "1281      NaN            28.0        Comedy,Drama,Romance            8.7   \n",
            "314       NaN            21.0                      Comedy            8.1   \n",
            "189       NaN            49.0                       Music            8.8   \n",
            "151       NaN            42.0               Drama,Western            8.6   \n",
            "1344      NaN            40.0      Adventure,Comedy,Drama            8.3   \n",
            "1242      NaN           106.0                      Comedy            8.1   \n",
            "1217      NaN            11.0  Adventure,Animation,Comedy            8.4   \n",
            "544       NaN            25.0        Drama,Fantasy,Horror            8.1   \n",
            "49        NaN            42.0                       Drama            8.9   \n",
            "357       NaN            56.0             Adventure,Drama            8.8   \n",
            "1111      NaN            53.0      Action,Adventure,Crime            8.0   \n",
            "790       NaN            42.0     Action,Adventure,Comedy            8.2   \n",
            "972       NaN           118.0                       Drama            7.9   \n",
            "819       NaN           143.0               Drama,Romance            7.9   \n",
            "\n",
            "      numVotes     score  \n",
            "68        3820  9.254624  \n",
            "236       1411  8.955045  \n",
            "1181      1536  8.892450  \n",
            "326       1859  8.850993  \n",
            "1045      2740  8.740308  \n",
            "71        1428  8.700045  \n",
            "1234      1753  8.660784  \n",
            "1087     12056  8.566998  \n",
            "1054      2495  8.451165  \n",
            "448       1343  8.256663  \n",
            "624        401  8.020118  \n",
            "1281       396  8.014679  \n",
            "314       2766  8.002863  \n",
            "189        330  7.992798  \n",
            "151        437  7.991253  \n",
            "1344       812  7.976536  \n",
            "1242      1931  7.965312  \n",
            "1217       566  7.947641  \n",
            "544       1559  7.937290  \n",
            "49         263  7.936330  \n",
            "357        289  7.928908  \n",
            "1111      2898  7.914287  \n",
            "790        823  7.901687  \n",
            "972      38543  7.893678  \n",
            "819       2974  7.823470  \n"
          ]
        }
      ]
    },
    {
      "cell_type": "markdown",
      "source": [
        "**Pertanyaan 5: Bagaimana cara membuat simple recommender system dengan user preferences?**\n",
        "\n",
        "Dari task yang sudah dilakukan sebelumnya, dapat dilihat sekarang daftar film telah diurutkan dari score tertinggi ke terendah.\n",
        "\n",
        "Film dengan averageRating yang tinggi tidak selalu mendapat posisi yang lebih tinggi dibanding film dengan averageRating lebih rendah, hal ini disebabkan karena kita juga memperhitungkan faktor banyaknya votes\n",
        "\n",
        "\n",
        "Sistem rekomendasi ini masih bisa ditingkatkan dengan menambah filter spesifik tentang titleType, startYear, ataupun filter yang lain\n",
        "\n",
        "Pekerjaan selanjutnya yang akan kita lakukan adalah membuat function untuk melakukan filter berdasarkan isAdult, startYear, dan genres. "
      ],
      "metadata": {
        "id": "noCMNBbxUaPs"
      }
    },
    {
      "cell_type": "code",
      "source": [
        "df = movie_rating_df.copy()\n",
        "\n",
        "def user_prefer_recommender(df, ask_adult, ask_start_year, ask_genre, top=100):\n",
        "    #ask_adult = yes/no\n",
        "    if ask_adult.lower() == 'yes':\n",
        "        df = df.loc[df['isAdult'] == 1]\n",
        "    elif ask_adult.lower() == 'no':\n",
        "        df = df.loc[df['isAdult'] == 0]\n",
        "\n",
        "    #ask_start_year = numeric\n",
        "    df = df.loc[df['startYear'] >= int(ask_start_year)]\n",
        "\n",
        "    #ask_genre = 'all' atau yang lain\n",
        "    if ask_genre.lower() == 'all':\n",
        "        df = df\n",
        "    else:\n",
        "        def filter_genre(x):\n",
        "            if ask_genre.lower() in str(x).lower():\n",
        "                return True\n",
        "            else:\n",
        "                return False\n",
        "        df = df.loc[df['genres'].apply(lambda x: filter_genre(x))]\n",
        "\n",
        "    df = df.loc[df['numVotes'] >= m] #Mengambil film dengan m yang lebih besar dibanding numVotes\n",
        "    df = df.sort_values(by='score', ascending=False)\n",
        "    \n",
        "    #jika kamu hanya ingin mengambil 100 teratas\n",
        "    df = df[:top]\n",
        "    return df\n",
        "\n",
        "print(user_prefer_recommender(df,\n",
        "                       ask_adult = 'no',\n",
        "                        ask_start_year = 2000,\n",
        "                       ask_genre = 'drama'\n",
        "                       ))"
      ],
      "metadata": {
        "colab": {
          "base_uri": "https://localhost:8080/"
        },
        "id": "lQIpYBQ7UhPF",
        "outputId": "d5994fad-0685-46d0-c588-d3845434ddd7"
      },
      "execution_count": 19,
      "outputs": [
        {
          "output_type": "stream",
          "name": "stdout",
          "text": [
            "         tconst  titleType                         primaryTitle  \\\n",
            "68    tt4110822  tvEpisode                        S.O.S. Part 2   \n",
            "1181  tt7697962  tvEpisode  Chapter Seventeen: The Missionaries   \n",
            "326   tt7124590  tvEpisode  Chapter Thirty-Four: Judgment Night   \n",
            "71    tt8399426  tvEpisode                              Savages   \n",
            "1234  tt2843830  tvEpisode                                VIII.   \n",
            "...         ...        ...                                  ...   \n",
            "1138  tt1126516      movie              Money Hai Toh Honey Hai   \n",
            "1208  tt3044882      movie                                Nasha   \n",
            "1197  tt3016748      movie                       Jacob's Ladder   \n",
            "846   tt0488164      movie                          Moscow Zero   \n",
            "90    tt0299981    tvMovie               Highlander: The Source   \n",
            "\n",
            "                            originalTitle  isAdult  startYear  endYear  \\\n",
            "68                          S.O.S. Part 2        0     2015.0      NaN   \n",
            "1181  Chapter Seventeen: The Missionaries        0     2019.0      NaN   \n",
            "326   Chapter Thirty-Four: Judgment Night        0     2018.0      NaN   \n",
            "71                                Savages        0     2018.0      NaN   \n",
            "1234                                VIII.        0     2014.0      NaN   \n",
            "...                                   ...      ...        ...      ...   \n",
            "1138              Money Hai Toh Honey Hai        0     2008.0      NaN   \n",
            "1208                                Nasha        0     2013.0      NaN   \n",
            "1197                       Jacob's Ladder        0     2019.0      NaN   \n",
            "846                           Moscow Zero        0     2006.0      NaN   \n",
            "90                 Highlander: The Source        0     2007.0      NaN   \n",
            "\n",
            "      runtimeMinutes                  genres  averageRating  numVotes  \\\n",
            "68              43.0  Action,Adventure,Drama            9.4      3820   \n",
            "1181            54.0    Drama,Fantasy,Horror            9.2      1536   \n",
            "326             42.0     Crime,Drama,Mystery            9.1      1859   \n",
            "71              58.0   Drama,Fantasy,Romance            9.0      1428   \n",
            "1234            57.0         Adventure,Drama            8.9      1753   \n",
            "...              ...                     ...            ...       ...   \n",
            "1138           138.0            Comedy,Drama            2.8       527   \n",
            "1208           122.0          Drama,Thriller            3.2      1132   \n",
            "1197            89.0    Drama,Horror,Mystery            3.4      2065   \n",
            "846             82.0     Action,Drama,Horror            3.0      1620   \n",
            "90              86.0  Action,Adventure,Drama            3.1      8855   \n",
            "\n",
            "         score  \n",
            "68    9.254624  \n",
            "1181  8.892450  \n",
            "326   8.850993  \n",
            "71    8.700045  \n",
            "1234  8.660784  \n",
            "...        ...  \n",
            "1138  4.020601  \n",
            "1208  3.810708  \n",
            "1197  3.742360  \n",
            "846   3.474296  \n",
            "90    3.194020  \n",
            "\n",
            "[71 rows x 12 columns]\n"
          ]
        }
      ]
    }
  ]
}